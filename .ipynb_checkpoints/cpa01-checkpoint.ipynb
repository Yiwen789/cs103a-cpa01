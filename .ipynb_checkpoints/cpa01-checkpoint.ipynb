{
 "cells": [
  {
   "cell_type": "markdown",
   "metadata": {},
   "source": [
    "## Header\n",
    "This data is on airbnb listings in nyc. \n",
    "\n",
    "source: https://www.kaggle.com/dgomonov/new-york-city-airbnb-open-data\n",
    "\n",
    "- Q1: What geographic areas have the most listings and what areas have less in nyc\n",
    "- Q2: How are prices influenced by other variables?"
   ]
  },
  {
   "cell_type": "code",
   "execution_count": null,
   "metadata": {},
   "outputs": [],
   "source": [
    "# b. load the data into a pandas dataframe\n",
    "import numpy as np\n",
    "import pandas as pd\n",
    "from matplotlib import pyplot as plt\n",
    "df = pd.read_csv(\"AB_NYC_2019.csv\")"
   ]
  },
  {
   "cell_type": "code",
   "execution_count": null,
   "metadata": {},
   "outputs": [],
   "source": [
    "# c. use pd.describe() to get a rough overview of the data\n",
    "df.describe()"
   ]
  },
  {
   "cell_type": "code",
   "execution_count": null,
   "metadata": {},
   "outputs": [],
   "source": [
    "\n",
    "# print the array of columns and the index array\n",
    "cols = df.columns.tolist()\n",
    "index_list = df.index.tolist()\n",
    "print(cols)\n",
    "print(index_list)\n",
    "\n"
   ]
  },
  {
   "cell_type": "code",
   "execution_count": null,
   "metadata": {},
   "outputs": [],
   "source": [
    "# create some simple plot of part of the data\n",
    "# price distribution of the airbnb listings\n",
    "plt.figure(0)\n",
    "counts, bins = np.histogram(df['price'])\n",
    "plt.hist(bins[:-1], bins, weights = counts, label = 'frequency')\n",
    "plt.title(\"Histogram of listing price\")\n",
    "plt.xlabel(\"Listing price\")\n",
    "plt.ylabel(\"Counts\")\n",
    "plt.legend()\n",
    "\n",
    "# price vs minimum_nights\n",
    "plt.figure(1)\n",
    "plt.scatter(df['price'], df['minimum_nights'], marker = \"x\",s=10, alpha = 0.5, label = 'listing')\n",
    "plt.title(\"Minimum required nights in listings vs price\")\n",
    "plt.xlabel('price')\n",
    "plt.ylabel('minimum nights required to book')\n",
    "plt.legend()\n",
    "\n",
    "# locations\n",
    "plt.figure(2)\n",
    "plt.scatter(df['longitude'], df['latitude'], marker = \"x\", s=10, alpha = 0.1, label = 'listing')\n",
    "plt.title(\"Geographic Location of Listings\")\n",
    "plt.xlabel('Longitude')\n",
    "plt.ylabel('Latitude')\n",
    "plt.legend()"
   ]
  },
  {
   "cell_type": "code",
   "execution_count": null,
   "metadata": {},
   "outputs": [],
   "source": [
    "minimumn_nights_price = pd.pivot_table(df, \n",
    "                                       values = 'price', \n",
    "                                       columns = ['minimum_nights'], \n",
    "                                       index = ['number_of_reviews'], \n",
    "                                       aggfunc = np.mean,\n",
    "                                      fill_value = 0)"
   ]
  },
  {
   "cell_type": "code",
   "execution_count": null,
   "metadata": {},
   "outputs": [],
   "source": [
    "minimumn_nights_price"
   ]
  },
  {
   "cell_type": "code",
   "execution_count": null,
   "metadata": {},
   "outputs": [],
   "source": [
    "plt.plot(minimumn_nights_price[[1, 5]], label = ['1 minimum', '5 minimum'])\n",
    "plt.xlabel(\"number of reviews\")\n",
    "plt.ylabel(\"price\")\n",
    "plt.title(\"price of listings and number of reviews\")\n",
    "plt.legend()"
   ]
  },
  {
   "cell_type": "code",
   "execution_count": null,
   "metadata": {},
   "outputs": [],
   "source": [
    "df_grouped = df.groupby(\"minimum_nights\").mean()"
   ]
  },
  {
   "cell_type": "code",
   "execution_count": null,
   "metadata": {
    "scrolled": true
   },
   "outputs": [],
   "source": [
    "df_grouped.head()"
   ]
  },
  {
   "cell_type": "markdown",
   "metadata": {},
   "source": [
    "## Conclusion\n",
    "- Based on the analysis, we can see there are more listings in central nyc as the area seems more dense and covered with more data\n",
    "- We can see the price of the listing is usually higher if there are less minimum required nights in the listing and usually lower if the listing require more minimum nights booked"
   ]
  },
  {
   "cell_type": "code",
   "execution_count": null,
   "metadata": {},
   "outputs": [],
   "source": []
  }
 ],
 "metadata": {
  "kernelspec": {
   "display_name": "Python 3",
   "language": "python",
   "name": "python3"
  },
  "language_info": {
   "codemirror_mode": {
    "name": "ipython",
    "version": 3
   },
   "file_extension": ".py",
   "mimetype": "text/x-python",
   "name": "python",
   "nbconvert_exporter": "python",
   "pygments_lexer": "ipython3",
   "version": "3.8.5"
  }
 },
 "nbformat": 4,
 "nbformat_minor": 4
}
